{
  "nbformat": 4,
  "nbformat_minor": 0,
  "metadata": {
    "colab": {
      "name": "final-project-ML-bookcase-digitization.ipynb",
      "provenance": [],
      "collapsed_sections": [],
      "include_colab_link": true
    },
    "kernelspec": {
      "name": "python3",
      "display_name": "Python 3"
    },
    "language_info": {
      "name": "python"
    },
    "accelerator": "GPU"
  },
  "cells": [
    {
      "cell_type": "markdown",
      "metadata": {
        "id": "view-in-github",
        "colab_type": "text"
      },
      "source": [
        "<a href=\"https://colab.research.google.com/github/HuynhDoTanThanh/bookcase-digitization/blob/main/final_project_ML_bookcase_digitization.ipynb\" target=\"_parent\"><img src=\"https://colab.research.google.com/assets/colab-badge.svg\" alt=\"Open In Colab\"/></a>"
      ]
    },
    {
      "cell_type": "markdown",
      "metadata": {
        "id": "aZtPoPQ-JVjI"
      },
      "source": [
        "<h1 align=\"center\"><b>CS114.L21 - MÁY HỌC</b></h1>\n",
        "<h1 align=\"center\"><b>ĐỒ ÁN CUỐI KÌ</b></h1>\n",
        "<h1 align=\"center\"><b>Đề tài: SỐ HÓA TỦ SÁCH TIẾNG VIỆT (bookcase digitization)</b></h1>"
      ]
    },
    {
      "cell_type": "markdown",
      "metadata": {
        "id": "jcXVvhmuJioU"
      },
      "source": [
        "##**1.Giới thiệu**\n",
        "* **Bộ môn:** Máy học - CS112.L21\n",
        "* **Giảng viên:**\n",
        "  * Lê Đình Duy\n",
        "  * Phạm Nguyễn Trường An\n",
        "* **Thành viên nhóm:**\n",
        "  * Huỳnh Đỗ Tấn Thành - 19522227 (Leader)\n",
        "  * Nguyễn Lâm Thảo Vy - 19522547\n",
        "  * Nguyễn Thị Thúy An - 19521183\n"
      ]
    },
    {
      "cell_type": "markdown",
      "metadata": {
        "id": "ob6U75TAKwpx"
      },
      "source": [
        "## **2.Mô tả bài toán**\n",
        "* **Bối cảnh ứng dụng:** Trong thời đại số hóa, việc đọc hình ảnh chuyển thành dữ liệu có thể xử lý thao tác được trên máy tính không còn xa lạ nữa. Ví dụ như đọc ảnh chưng minh nhân dân chẳng hạn, hay là giấy khai sinh, ... Nhóm chúng em thực hiện đồ án số hóa tủ sách này với mong muốn có thể giải quyết được việc thay vì thao tác nhập tay để lưu thông tin của quyển sách ta có thể đọc từ ảnh chụp.\n",
        "* **Ưu điểm:** Giúp giảm thao tác nhập liệu khi có một kho thư viện khá lớn (vài ngàn cuốn sách) khi muốn lưu thông tin sách lên máy.\n",
        "* **Nhược điểm:** Việc số hóa được một cuốn sách cũng khá là phức tạp. Độ chính xác bị giảm dần qua nhiều thao tác. Có nhìu cuốn sách không thể đọc được như chữ bị khuyết, bị che, chứ lồng vào nhau khá nhiều, chữ xiêng nhiều, chữ chìm, chữ đan xen nhau,... Nên việc số hóa chỉ nên đối với các sách đơn giản hơn.\n",
        "\n",
        "* **INPUT:** Ảnh chụp bìa sách từ camera với chất lượng ảnh tối thiểu là Full HD (720x960).\n",
        "* **OUTPUT:** Thông tin của sách gồm 6 trường dữ liệu:\n",
        "  * Tên sách\n",
        "  * Tên tác giả\n",
        "  * Nhà xuất bản\n",
        "  * Tập\n",
        "  * Người dịch\n",
        "  * Tái bản\n",
        "\n",
        "* **Pipeline:**\n",
        "<a align = center>\n",
        "  <img src='https://drive.google.com/uc?export=view&id=1vh6oQbLgfoV850cQYrZt_IzT4tpm4XIA' align = center>\n",
        "  <div style=width: 130px; align = center>Pipeline bookcase digitization</div>"
      ]
    },
    {
      "cell_type": "markdown",
      "metadata": {
        "id": "eOSxI97qTZLc"
      },
      "source": [
        "## **3.Mô tả dữ liệu:**\n",
        "### **3.1 Thu thập dữ liệu:**\n",
        "  * 500 ảnh bìa sách được chụp dưới nền đen.\n",
        "  * 10000 ảnh bìa sách được crawl từ nhiều nguồn khác nhau như:\n",
        "    * [Nhà xuất bản Trẻ](https://www.nxbtre.com.vn/)\n",
        "    * [Nhà xuất bản Kim Đồng](https://nxbkimdong.com.vn/)\n",
        "    * [Nhà xuất bản ĐHQG-TPHCM](https://vnuhcmpress.edu.vn/)\n",
        "    * [Nhà xuất bản Hà Nội](http://www.nxbhanoi.com.vn/)\n",
        "    * [Nhà xuất bản Đà Nẵng](https://nxbdanang.vn/)\n",
        "    * [Nhà xuất bản Quân đội nhân dân](http://nxbqdnd.com.vn/)\n",
        "    * [Nhà xuất bản khoa học xã hội](http://nxbkhxh.vass.gov.vn/)\n",
        "    * [Nhà xuất bản thanh niên](https://www.nhaxuatbanthanhnien.vn/)\n",
        "    * [Nhà xuất bản tư pháp](https://nxbtuphap.moj.gov.vn/)\n",
        "    * [Nhà sách tiki](tiki.vn/sach-truyen-tieng-viet/c316?page=1&src=c.8322.hamburger_menu_fly_out_banner)\n",
        "  * 45000 dòng text được cắt ra từ chính những sách đã thu thập được.\n",
        "  * 100000 dòng text được generate từ nhiều font chữ khác nhau.\n",
        "\n",
        "### **3.2 Dán nhãn dữ liệu**\n",
        "  * Vì thời gian thực hiện đồ án có hạn nên nhóm em đã dán nhãn được:\n",
        "    * 6000 ảnh bìa sách phục vụ train model YOLO ([link dán nhãn](http://makesense.ai/))\n",
        "    * 45000 dòng text để phục vụ train model VietOCR ([link dán nhãn](https://www.robots.ox.ac.uk/~vgg/software/via/via.html))\n",
        "\n",
        "### **3.3 Thao tác xử lý dữ liệu:**\n",
        "  * Đầu tiên với ảnh thô chụp từ camera dưới nền đen ta dễ dàng contour ảnh từ một số bước xử lý dữ liệu:\n",
        "    * Resize ảnh.\n",
        "    * Convert ảnh thành Gray Scale.\n",
        "    * Sử dụng Gaussian Blur và Candy Blur.\n",
        "    * [Find contour](https://pythonexamples.org/python-opencv-cv2-find-contours-in-image/).\n",
        "    * Lấy ra contour lớn nhất.\n",
        "    * Lấy ra bốn điểm của countour và cắt ảnh bằng [cv2.warpPerspective](https://docs.opencv.org/4.5.2/da/d54/group__imgproc__transform.html#gaf73673a7e8e18ec6963e3774e6a94b87)\n",
        "\n",
        "  * Tiếp theo đến việc detect object, nhóm em sử dụng model deeplearning của [YOLOv5](https://github.com/ultralytics/yolov5)\n",
        "      * Với 6 label:\n",
        "        * 0: Tên sách\n",
        "        * 1: Tên tác giả\n",
        "        * 2: Nhà xuất bản\n",
        "        * 3: Tập\n",
        "        * 4: Người dịch\n",
        "        * 5: Tái bản\n",
        "      * Cắt ảnh ra từ những object đã được predict của phần object detection ở trên.\n",
        "  * Craft:\n",
        "    * Nhóm em sử dụng model deeplearning đã được train sẵn từ nhiều ngôn ngữ khác nhau: [Craft text detector](https://github.com/clovaai/CRAFT-pytorch) với:\n",
        "      * text_threshold=0.7\n",
        "      * link_threshold=0.4\n",
        "      * low_text=0.3\n",
        "      * long_size=1280\n",
        "  * OCR:\n",
        "    * Chuyển ảnh thành Gray Scale.\n",
        "    * Nhóm em sử dụng model [VietOCR](https://github.com/pbcquoc/vietocr).\n",
        "    * Sử dụng xoay ảnh để có thể đọc được cả chữ dọc.\n",
        "    * Xử lý xóa các text không liên quan trong tên sách do các object khác nhau bị chồng lên nhau, ví dụ như trong việc tên sách có cả tên tác giả nếu như trong object tên sách có cả tên tác giả thì ta sẽ xóa tên tác giả có trong tên sách.\n",
        "  * Lưu kết quả:\n",
        "    * Thêm vào dataframe và lưu dưới dạng file csv.\n",
        "\n",
        "### **3.4 Phân chia (split) - train/dev/test**\n",
        " * Với cả model YOLOv5 và cả VietOCR thì nhóm em để chia train/val theo tỉ lệ 80/20 một cách ngẫu nhiên.\n",
        " * Đối với việc đánh giá thì em dành phần nhỏ của phần còn lại trong những ảnh bìa sách chưa dán nhãn cả phần VietOCR và YOLO chia làm 3 phần: easy(100), medium(60), hard(40)"
      ]
    },
    {
      "cell_type": "markdown",
      "metadata": {
        "id": "kwXpUIvXoDjO"
      },
      "source": [
        "## **4.Mô tả đặc trưng**"
      ]
    },
    {
      "cell_type": "markdown",
      "metadata": {
        "id": "xjUl02M5cL0F"
      },
      "source": [
        "# Import data"
      ]
    },
    {
      "cell_type": "code",
      "metadata": {
        "id": "yNsowRN3MCbe"
      },
      "source": [
        "!git clone https://github.com/HuynhDoTanThanh/bookcase-digitization.git"
      ],
      "execution_count": null,
      "outputs": []
    },
    {
      "cell_type": "code",
      "metadata": {
        "id": "P2nD5iEQMd6h"
      },
      "source": [
        "%cd /content/bookcase-digitization\n",
        "! gdown https://drive.google.com/uc?id=1541f6veAtRW0Wb_WYnlz7gs6VKGzF60q"
      ],
      "execution_count": null,
      "outputs": []
    },
    {
      "cell_type": "code",
      "metadata": {
        "id": "ND7wy6NoNyDW"
      },
      "source": [
        "%cd /content/bookcase-digitization\n",
        "!git clone https://github.com/ultralytics/yolov5  # clone repo\n",
        "%cd yolov5\n",
        "%pip install -qr requirements.txt  # install dependencies\n",
        "\n",
        "import torch\n",
        "from IPython.display import Image, clear_output  # to display images\n",
        "\n",
        "clear_output()\n",
        "print(f\"Setup complete. Using torch {torch.__version__} ({torch.cuda.get_device_properties(0).name if torch.cuda.is_available() else 'CPU'})\")"
      ],
      "execution_count": null,
      "outputs": []
    },
    {
      "cell_type": "code",
      "metadata": {
        "id": "zl9g5jxMOyWB"
      },
      "source": [
        "!pip install craft_text_detector\n",
        "!pip install --quiet vietocr==0.3.5"
      ],
      "execution_count": null,
      "outputs": []
    },
    {
      "cell_type": "markdown",
      "metadata": {
        "id": "ebZ3dU0CcQ7e"
      },
      "source": [
        "# Connect drive to load image"
      ]
    },
    {
      "cell_type": "code",
      "metadata": {
        "colab": {
          "base_uri": "https://localhost:8080/"
        },
        "id": "hmmsarYkPUvv",
        "outputId": "93ff3dc6-fe51-4814-cd5c-66cf34d6debb"
      },
      "source": [
        "from google.colab import drive\n",
        "drive.mount('/content/drive')"
      ],
      "execution_count": null,
      "outputs": [
        {
          "output_type": "stream",
          "text": [
            "Mounted at /content/drive\n"
          ],
          "name": "stdout"
        }
      ]
    },
    {
      "cell_type": "markdown",
      "metadata": {
        "id": "IdAQ14adcYx2"
      },
      "source": [
        "# Bookcase-digitization"
      ]
    },
    {
      "cell_type": "code",
      "metadata": {
        "id": "tb7n9RFNPg-L"
      },
      "source": [
        "%cd /content/bookcase-digitization\n",
        "# Cú pháp: !python main.py -i <thư mục chứa ảnh>\n",
        "!python main.py -i /content/drive/MyDrive/data/data_test/easy"
      ],
      "execution_count": null,
      "outputs": []
    },
    {
      "cell_type": "markdown",
      "metadata": {
        "id": "QP70ylDsc4Qm"
      },
      "source": [
        "# Show result"
      ]
    },
    {
      "cell_type": "code",
      "metadata": {
        "colab": {
          "base_uri": "https://localhost:8080/",
          "height": 106
        },
        "id": "kSDWZ0QZbCjj",
        "outputId": "4f7dfff4-2e53-4fec-e66c-5e462e0b315a"
      },
      "source": [
        "import pandas as pd\n",
        "\n",
        "data = pd.read_csv('/content/bookcase-digitization/data.csv')\n",
        "data.head()"
      ],
      "execution_count": null,
      "outputs": [
        {
          "output_type": "execute_result",
          "data": {
            "text/html": [
              "<div>\n",
              "<style scoped>\n",
              "    .dataframe tbody tr th:only-of-type {\n",
              "        vertical-align: middle;\n",
              "    }\n",
              "\n",
              "    .dataframe tbody tr th {\n",
              "        vertical-align: top;\n",
              "    }\n",
              "\n",
              "    .dataframe thead th {\n",
              "        text-align: right;\n",
              "    }\n",
              "</style>\n",
              "<table border=\"1\" class=\"dataframe\">\n",
              "  <thead>\n",
              "    <tr style=\"text-align: right;\">\n",
              "      <th></th>\n",
              "      <th>Unnamed: 0</th>\n",
              "      <th>tên sách</th>\n",
              "      <th>tên tác giả</th>\n",
              "      <th>nhà xuất bản</th>\n",
              "      <th>tập</th>\n",
              "      <th>người dịch</th>\n",
              "      <th>tái bản</th>\n",
              "    </tr>\n",
              "  </thead>\n",
              "  <tbody>\n",
              "    <tr>\n",
              "      <th>0</th>\n",
              "      <td>0</td>\n",
              "      <td>TỪ ĐIỂN ANH-VIỆT KHOA HỌC TỰ NHIÊN VẬT LÝ</td>\n",
              "      <td>NaN</td>\n",
              "      <td>NHÀ XUẤT BẢN GIÁO DỤC</td>\n",
              "      <td>Tập 2</td>\n",
              "      <td>NaN</td>\n",
              "      <td>NaN</td>\n",
              "    </tr>\n",
              "    <tr>\n",
              "      <th>1</th>\n",
              "      <td>1</td>\n",
              "      <td>SÉCGIAN GÔLÔNG TÌNH SỬ (INGIÊLIC</td>\n",
              "      <td>NaN</td>\n",
              "      <td>NHÀ XUẤT BẢN VĂN HÓA THÔNG TIN</td>\n",
              "      <td>NaN</td>\n",
              "      <td>NaN</td>\n",
              "      <td>NaN</td>\n",
              "    </tr>\n",
              "  </tbody>\n",
              "</table>\n",
              "</div>"
            ],
            "text/plain": [
              "   Unnamed: 0                                    tên sách  ...  người dịch tái bản\n",
              "0           0   TỪ ĐIỂN ANH-VIỆT KHOA HỌC TỰ NHIÊN VẬT LÝ  ...         NaN     NaN\n",
              "1           1            SÉCGIAN GÔLÔNG TÌNH SỬ (INGIÊLIC  ...         NaN     NaN\n",
              "\n",
              "[2 rows x 7 columns]"
            ]
          },
          "metadata": {
            "tags": []
          },
          "execution_count": 7
        }
      ]
    }
  ]
}